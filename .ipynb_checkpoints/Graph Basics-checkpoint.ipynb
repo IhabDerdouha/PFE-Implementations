{
 "cells": [
  {
   "cell_type": "markdown",
   "id": "e58bb816-5063-4056-a8bc-1f53c66dddaa",
   "metadata": {
    "tags": []
   },
   "source": [
    "# Graphs"
   ]
  },
  {
   "cell_type": "code",
   "execution_count": 1,
   "id": "d6bc063d-3aa0-4341-ad88-d4f256d1d623",
   "metadata": {},
   "outputs": [],
   "source": [
    "import numpy as np\n",
    "import pandas as pd\n",
    "import matplotlib.pyplot as plt\n",
    "import networkx as nx"
   ]
  },
  {
   "cell_type": "markdown",
   "id": "cad36631-4a58-4753-afcf-6c3df41a9a58",
   "metadata": {},
   "source": [
    "#### Definition and Terminology\n",
    "\n",
    "- A graph G = (V, E) consists of a set of nodes (a.k.a vertices) V connected together through a set of edges E.\n",
    "- The set of vertices V = {v1, ..., vN} where N = |V| is the the number of nodes.\n",
    "- The set of edges E = (e1, ..., eM) where M = |E| is the the number of edges and e = (vi, vj) is the edge that connects the nodes vi and vj.\n"
   ]
  },
  {
   "cell_type": "code",
   "execution_count": 7,
   "id": "fe598b5b-334d-43f3-a272-06eb26486a9e",
   "metadata": {},
   "outputs": [
    {
     "name": "stdout",
     "output_type": "stream",
     "text": [
      "Graph info:\n",
      "Number of nodes N = 5\n",
      "Number of edges M = 6\n"
     ]
    },
    {
     "data": {
      "image/png": "[encoded data removed]",
      "text/plain": [
       "<Figure size 432x288 with 1 Axes>"
      ]
     },
     "metadata": {},
     "output_type": "display_data"
    }
   ],
   "source": [
    "# Define the graph G\n",
    "G = nx.Graph()\n",
    "print(\"Graph info:\")\n",
    "\n",
    "# Define the nodes\n",
    "G.add_nodes_from([\"v1\", \"v2\", \"v3\", \"v4\", \"v5\"])\n",
    "print(\"Number of nodes N =\", G.number_of_nodes())\n",
    "\n",
    "# Define the edges\n",
    "G.add_edges_from([\n",
    "    (\"v1\", \"v2\"), (\"v1\", \"v4\"), (\"v1\", \"v5\"),\n",
    "    (\"v2\", \"v3\"), (\"v3\", \"v5\"), (\"v4\", \"v5\")\n",
    "])\n",
    "print(\"Number of edges M =\", G.number_of_edges())\n",
    "\n",
    "# Draw the graph\n",
    "plt.figure()\n",
    "pos = nx.spring_layout(G)\n",
    "nx.draw(\n",
    "    G, pos, edge_color='black', width=1, linewidths=1,\n",
    "    node_size=1300, node_color='pink', font_size=15,\n",
    "    labels={node: node for node in G.nodes()}\n",
    ")\n",
    "nx.draw_networkx_edge_labels(\n",
    "    G, pos,\n",
    "    edge_labels={e:\"e\"+str(i) for e, i in zip(list(G.edges), range(1, G.number_of_edges()+1))},\n",
    "    font_size=15\n",
    ")\n",
    "plt.axis('off')\n",
    "plt.show()"
   ]
  },
  {
   "cell_type": "markdown",
   "id": "29e51cf3-4733-494e-8979-0a04a61d792e",
   "metadata": {},
   "source": [
    "#### Adjacency matrix\n",
    "\n",
    "The adjacency matrix A of a graph G is defined as follows: \n",
    "\n",
    "$$A^{(ij)}\n",
    "= \\begin{cases}\n",
    "1 & \\text{ if } e^{(ij)} \\epsilon E\\\\ \n",
    "0  & \\text{ otherwise } \n",
    "\\end{cases}\n",
    "$$\n"
   ]
  },
  {
   "cell_type": "code",
   "execution_count": 8,
   "id": "fbf201ca-2c94-4eac-ba4a-f2d8630670b3",
   "metadata": {},
   "outputs": [
    {
     "name": "stdout",
     "output_type": "stream",
     "text": [
      "Adjacency Matrix\n"
     ]
    },
    {
     "data": {
      "text/html": [
       "<div>\n",
       "<style scoped>\n",
       "    .dataframe tbody tr th:only-of-type {\n",
       "        vertical-align: middle;\n",
       "    }\n",
       "\n",
       "    .dataframe tbody tr th {\n",
       "        vertical-align: top;\n",
       "    }\n",
       "\n",
       "    .dataframe thead th {\n",
       "        text-align: right;\n",
       "    }\n",
       "</style>\n",
       "<table border=\"1\" class=\"dataframe\">\n",
       "  <thead>\n",
       "    <tr style=\"text-align: right;\">\n",
       "      <th></th>\n",
       "      <th>1</th>\n",
       "      <th>2</th>\n",
       "      <th>3</th>\n",
       "      <th>4</th>\n",
       "      <th>5</th>\n",
       "    </tr>\n",
       "  </thead>\n",
       "  <tbody>\n",
       "    <tr>\n",
       "      <th>1</th>\n",
       "      <td>0</td>\n",
       "      <td>1</td>\n",
       "      <td>0</td>\n",
       "      <td>1</td>\n",
       "      <td>1</td>\n",
       "    </tr>\n",
       "    <tr>\n",
       "      <th>2</th>\n",
       "      <td>1</td>\n",
       "      <td>0</td>\n",
       "      <td>1</td>\n",
       "      <td>0</td>\n",
       "      <td>0</td>\n",
       "    </tr>\n",
       "    <tr>\n",
       "      <th>3</th>\n",
       "      <td>0</td>\n",
       "      <td>1</td>\n",
       "      <td>0</td>\n",
       "      <td>0</td>\n",
       "      <td>1</td>\n",
       "    </tr>\n",
       "    <tr>\n",
       "      <th>4</th>\n",
       "      <td>1</td>\n",
       "      <td>0</td>\n",
       "      <td>0</td>\n",
       "      <td>0</td>\n",
       "      <td>1</td>\n",
       "    </tr>\n",
       "    <tr>\n",
       "      <th>5</th>\n",
       "      <td>1</td>\n",
       "      <td>0</td>\n",
       "      <td>1</td>\n",
       "      <td>1</td>\n",
       "      <td>0</td>\n",
       "    </tr>\n",
       "  </tbody>\n",
       "</table>\n",
       "</div>"
      ],
      "text/plain": [
       "   1  2  3  4  5\n",
       "1  0  1  0  1  1\n",
       "2  1  0  1  0  0\n",
       "3  0  1  0  0  1\n",
       "4  1  0  0  0  1\n",
       "5  1  0  1  1  0"
      ]
     },
     "execution_count": 8,
     "metadata": {},
     "output_type": "execute_result"
    }
   ],
   "source": [
    "A = pd.DataFrame(nx.to_numpy_matrix(G).astype(int))\n",
    "A.index = A.columns = range(1, G.number_of_nodes()+1)\n",
    "print(\"Adjacency Matrix\")\n",
    "A"
   ]
  },
  {
   "cell_type": "markdown",
   "id": "b2060904-da1f-47fd-b689-60ef996118d8",
   "metadata": {},
   "source": [
    "#### Line Graph \n",
    "A Line graph is obtained by transforming the original graph edges into nodes. It is to note that two edges are connected if and only if they share a commun node."
   ]
  },
  {
   "cell_type": "code",
   "execution_count": 23,
   "id": "b771d295-4a2b-45ac-9896-e6b4db05bc06",
   "metadata": {},
   "outputs": [
    {
     "name": "stdout",
     "output_type": "stream",
     "text": [
      "Line Graph info:\n",
      "Number of nodes N = 6\n",
      "Number of edges M = 9\n"
     ]
    },
    {
     "data": {
      "image/png": "[encoded data removed]",
      "text/plain": [
       "<Figure size 432x288 with 1 Axes>"
      ]
     },
     "metadata": {},
     "output_type": "display_data"
    }
   ],
   "source": [
    "# Define the line graph of G\n",
    "line_G = nx.line_graph(G)\n",
    "print(\"Line Graph info:\")\n",
    "print(\"Number of nodes N =\", line_G.number_of_nodes())\n",
    "print(\"Number of edges M =\", line_G.number_of_edges())\n",
    "\n",
    "# Draw the graph\n",
    "plt.figure()\n",
    "pos = nx.spring_layout(line_G)\n",
    "nx.draw(\n",
    "    line_G, pos, edge_color='black', width=1, linewidths=1,\n",
    "    node_size=3000, node_color='cyan', font_size=12,\n",
    "    labels={node: node for node in line_G.nodes()}\n",
    ")\n",
    "plt.axis('off')\n",
    "plt.show()"
   ]
  },
  {
   "cell_type": "code",
   "execution_count": null,
   "id": "11078ee8-8bb9-46ce-ba0f-00e5faa150f8",
   "metadata": {},
   "outputs": [],
   "source": []
  },
  {
   "cell_type": "code",
   "execution_count": null,
   "id": "6c8c752a-6ca5-41a8-a16d-75d6fffc3b63",
   "metadata": {},
   "outputs": [],
   "source": []
  }
 ],
 "metadata": {
  "kernelspec": {
   "display_name": "Python 3 (ipykernel)",
   "language": "python",
   "name": "python3"
  },
  "language_info": {
   "codemirror_mode": {
    "name": "ipython",
    "version": 3
   },
   "file_extension": ".py",
   "mimetype": "text/x-python",
   "name": "python",
   "nbconvert_exporter": "python",
   "pygments_lexer": "ipython3",
   "version": "3.9.12"
  }
 },
 "nbformat": 4,
 "nbformat_minor": 5
}
